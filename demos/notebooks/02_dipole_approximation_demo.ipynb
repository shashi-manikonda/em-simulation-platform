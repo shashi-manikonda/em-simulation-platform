{
 "cells": [
  {
   "cell_type": "markdown",
   "metadata": {},
   "source": [
    "# Dipole Approximation Demo\n",
    "\n",
    "This notebook demonstrates the error of the magnetic dipole approximation as a function of distance from a current loop."
   ]
  },
  {
   "cell_type": "code",
   "execution_count": null,
   "metadata": {},
   "outputs": [],
   "source": [
    "import numpy as np\n",
    "import matplotlib.pyplot as plt\n",
    "from em_app.sources import RingCoil\n",
    "from em_app.solvers import calculate_b_field\n",
    "from mtflib import mtf\n",
    "\n",
    "mtf.initialize_mtf(max_order=6, max_dimension=4)"
   ]
  },
  {
   "cell_type": "markdown",
   "metadata": {},
   "source": [
    "## Magnetic Dipole B-Field"
   ]
  },
  {
   "cell_type": "code",
   "execution_count": null,
   "metadata": {},
   "outputs": [],
   "source": [
    "def magnetic_dipole_b_field(magnetic_moment, r_vec):\n",
    "    \"\"\"\n",
    "    Calculates the B-field from a magnetic dipole.\n",
    "    \"\"\"\n",
    "    mu_0 = 4 * np.pi * 1e-7\n",
    "    r_mag = np.linalg.norm(r_vec)\n",
    "    r_hat = r_vec / r_mag\n",
    "\n",
    "    term1 = 3 * np.dot(magnetic_moment, r_hat) * r_hat\n",
    "    term2 = magnetic_moment\n",
    "\n",
    "    b_field = (mu_0 / (4 * np.pi * r_mag**3)) * (term1 - term2)\n",
    "    return b_field"
   ]
  },
  {
   "cell_type": "markdown",
   "metadata": {},
   "source": [
    "## Main Execution"
   ]
  },
  {
   "cell_type": "code",
   "execution_count": null,
   "metadata": {},
   "outputs": [],
   "source": [
    "def main():\n",
    "    # --- Setup ---\n",
    "    current = 1.0\n",
    "    radius = 0.1\n",
    "    ring_coil = RingCoil(current, radius, num_segments=20, center_point=np.array([0,0,0]), axis_direction=np.array([0,0,1]))\n",
    "\n",
    "    # Magnetic moment of the ring coil\n",
    "    area = np.pi * radius**2\n",
    "    magnetic_moment = current * area * np.array([0, 0, 1])\n",
    "\n",
    "    # --- Calculation ---\n",
    "    distances = np.logspace(0, 3, 20) * radius # from 1 to 1000 radii\n",
    "    errors = []\n",
    "\n",
    "    for d in distances:\n",
    "        observation_point = np.array([[0, 0, d]])\n",
    "\n",
    "        # Full Biot-Savart calculation\n",
    "        b_field = calculate_b_field(ring_coil, observation_point)\n",
    "        b_field_numerical = b_field._vectors_mtf[0].to_numpy_array()\n",
    "\n",
    "        # Dipole approximation\n",
    "        b_field_dipole = magnetic_dipole_b_field(magnetic_moment, observation_point[0])\n",
    "\n",
    "        # Calculate relative error\n",
    "        error = np.linalg.norm(b_field_numerical - b_field_dipole) / np.linalg.norm(b_field_numerical)\n",
    "        errors.append(error)\n",
    "\n",
    "    # --- Visualization ---\n",
    "    plt.figure(figsize=(8, 6))\n",
    "    plt.loglog(distances / radius, errors, 'b-o')\n",
    "    plt.title(\"Dipole Approximation Error vs. Distance\")\n",
    "    plt.xlabel(\"Distance from coil (in radii)\")\n",
    "    plt.ylabel(\"Relative Error\")\n",
    "    plt.grid(True, which=\"both\", ls=\"--\")\n",
    "    plt.savefig(\"02_dipole_approximation_error.png\")\n",
    "    plt.show()\n",
    "\n",
    "main()"
   ]
  }
 ],
 "metadata": {
  "kernelspec": {
   "display_name": "Python 3",
   "language": "python",
   "name": "python3"
  },
  "language_info": {
   "codemirror_mode": {
    "name": "ipython",
    "version": 3
   },
   "file_extension": ".py",
   "mimetype": "text/x-python",
   "name": "python",
   "nbconvert_exporter": "python",
   "pygments_lexer": "ipython3",
   "version": "3.12.11"
  }
 },
 "nbformat": 4,
 "nbformat_minor": 4
}