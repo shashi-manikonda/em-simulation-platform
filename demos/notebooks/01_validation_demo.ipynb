{
 "cells": [
  {
   "cell_type": "markdown",
   "metadata": {},
   "source": [
    "# Validation Demo\n",
    "\n",
    "This notebook validates the numerical calculations against analytical solutions and visualizes coil geometries."
   ]
  },
  {
   "cell_type": "code",
   "execution_count": null,
   "metadata": {},
   "outputs": [],
   "source": [
    "import numpy as np\n",
    "import matplotlib.pyplot as plt\n",
    "from em_app.sources import StraightWire, RectangularCoil\n",
    "from em_app.solvers import calculate_b_field\n",
    "from mtflib import mtf\n",
    "\n",
    "mtf.initialize_mtf(max_order=6, max_dimension=4)"
   ]
  },
  {
   "cell_type": "markdown",
   "metadata": {},
   "source": [
    "## Analytical Solution for Straight Wire"
   ]
  },
  {
   "cell_type": "code",
   "execution_count": null,
   "metadata": {},
   "outputs": [],
   "source": [
    "def analytical_b_field_straight_wire(current, a, z1, z2, z):\n",
    "    \"\"\"\n",
    "    Analytical solution for the B-field of a finite straight wire.\n",
    "    \"\"\"\n",
    "    mu_0 = 4 * np.pi * 1e-7\n",
    "    cos_theta_1 = (z - z1) / np.sqrt((z - z1) ** 2 + a**2)\n",
    "    cos_theta_2 = (z - z2) / np.sqrt((z - z2) ** 2 + a**2)\n",
    "    b_phi_mag = (mu_0 * current / (4 * np.pi * a)) * (cos_theta_1 - cos_theta_2)\n",
    "    return b_phi_mag"
   ]
  },
  {
   "cell_type": "markdown",
   "metadata": {},
   "source": [
    "## Main Execution"
   ]
  },
  {
   "cell_type": "code",
   "execution_count": null,
   "metadata": {},
   "outputs": [],
   "source": [
    "def main():\n",
    "    # --- Part 1: Straight Wire Validation ---\n",
    "    print(\"--- Straight Wire Validation ---\")\n",
    "    current = 1.0\n",
    "    start_point = [0, 0, -1]\n",
    "    end_point = [0, 0, 1]\n",
    "    wire = StraightWire(current, start_point, end_point, num_segments=50)\n",
    "\n",
    "    # Numerical calculation\n",
    "    observation_point = np.array([[0.1, 0, 0]])\n",
    "    b_field = calculate_b_field(wire, observation_point)\n",
    "    b_field_numerical = b_field._vectors_mtf[0].to_numpy_array()\n",
    "    print(f\"Numerical B-field at {observation_point[0]}: {b_field_numerical}\")\n",
    "\n",
    "    # Analytical calculation\n",
    "    b_field_analytical_mag = analytical_b_field_straight_wire(current, 0.1, -1, 1, 0)\n",
    "    print(f\"Analytical B-field magnitude: {b_field_analytical_mag}\")\n",
    "\n",
    "    # The B-field should be in the -y direction (phi direction)\n",
    "    b_field_numerical_mag = np.linalg.norm(b_field_numerical)\n",
    "    print(f\"Numerical B-field magnitude: {b_field_numerical_mag}\")\n",
    "\n",
    "    error = abs(b_field_numerical_mag - b_field_analytical_mag) / b_field_analytical_mag\n",
    "    print(f\"Relative error: {error:.2%}\")\n",
    "\n",
    "\n",
    "    # --- Part 2: Geometry Visualization ---\n",
    "    print(\"\\n--- Geometry Visualization ---\")\n",
    "    # Plot straight wire\n",
    "    fig = plt.figure(figsize=(12, 6))\n",
    "    ax1 = fig.add_subplot(121, projection='3d')\n",
    "    wire.plot(ax=ax1)\n",
    "    ax1.set_title(\"Straight Wire Geometry\")\n",
    "\n",
    "    # Plot rectangular loop\n",
    "    p1 = np.array([0, 0, 0])\n",
    "    p2 = np.array([1, 0, 0])\n",
    "    p4 = np.array([0, 1, 0])\n",
    "    rect_loop = RectangularCoil(1.0, p1, p2, p4, 20)\n",
    "    ax2 = fig.add_subplot(122, projection='3d')\n",
    "    rect_loop.plot(ax=ax2)\n",
    "    ax2.set_title(\"Rectangular Loop Geometry\")\n",
    "\n",
    "    plt.tight_layout()\n",
    "    plt.savefig(\"01_geometries.png\")\n",
    "    plt.show()\n",
    "\n",
    "main()"
   ]
  }
 ],
 "metadata": {
  "kernelspec": {
   "display_name": "Python 3",
   "language": "python",
   "name": "python3"
  },
  "language_info": {
   "codemirror_mode": {
    "name": "ipython",
    "version": 3
   },
   "file_extension": ".py",
   "mimetype": "text/x-python",
   "name": "python",
   "nbconvert_exporter": "python",
   "pygments_lexer": "ipython3",
   "version": "3.12.11"
  }
 },
 "nbformat": 4,
 "nbformat_minor": 4
}