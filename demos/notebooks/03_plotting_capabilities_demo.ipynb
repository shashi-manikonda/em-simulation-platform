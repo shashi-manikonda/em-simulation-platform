{
 "cells": [
  {
   "cell_type": "markdown",
   "metadata": {},
   "source": [
    "# Plotting Capabilities Demo\n",
    "\n",
    "This notebook demonstrates the various plotting capabilities of the `em-app` package, including 1D, 2D, and 3D field visualizations."
   ]
  },
  {
   "cell_type": "code",
   "execution_count": null,
   "metadata": {},
   "outputs": [],
   "source": [
    "import numpy as np\n",
    "import matplotlib.pyplot as plt\n",
    "from em_app.sources import RingCoil, Coil\n",
    "from mtflib import mtf\n",
    "\n",
    "mtf.initialize_mtf(max_order=6, max_dimension=4)\n",
    "from em_app.plotting import plot_1d_field, plot_2d_field, plot_field_vectors_3d\n",
    "from em_app.solvers import calculate_b_field\n",
    "from em_app.vector_fields import VectorField"
   ]
  },
  {
   "cell_type": "markdown",
   "metadata": {},
   "source": [
    "## Helmholtz Coil Definition"
   ]
  },
  {
   "cell_type": "code",
   "execution_count": null,
   "metadata": {},
   "outputs": [],
   "source": [
    "class HelmholtzCoil(Coil):\n",
    "    def __init__(self, current, radius, num_segments, center_point, axis_direction):\n",
    "        super().__init__(current)\n",
    "        self.coil1 = RingCoil(current, radius, num_segments, center_point - axis_direction * radius / 2, axis_direction)\n",
    "        self.coil2 = RingCoil(current, radius, num_segments, center_point + axis_direction * radius / 2, axis_direction)\n",
    "        self.segment_centers = np.concatenate([self.coil1.segment_centers, self.coil2.segment_centers])\n",
    "        self.segment_lengths = np.concatenate([self.coil1.segment_lengths, self.coil2.segment_lengths])\n",
    "        self.segment_directions = np.concatenate([self.coil1.segment_directions, self.coil2.segment_directions])\n",
    "        self.current = current\n",
    "        self.use_mtf_for_segments = self.coil1.use_mtf_for_segments\n",
    "\n",
    "    def get_max_size(self):\n",
    "        # A simple implementation for sizing the plots\n",
    "        size1 = self.coil1.get_max_size()\n",
    "        size2 = self.coil2.get_max_size()\n",
    "        return np.maximum(size1, size2) * np.array([1,1,2])\n",
    "\n",
    "    def get_center_point(self):\n",
    "        return np.mean([self.coil1.get_center_point(), self.coil2.get_center_point()], axis=0)\n",
    "\n",
    "    def plot(self, ax=None, **kwargs):\n",
    "        self.coil1.plot(ax, **kwargs)\n",
    "        self.coil2.plot(ax, **kwargs)"
   ]
  },
  {
   "cell_type": "markdown",
   "metadata": {},
   "source": [
    "## Main Execution"
   ]
  },
  {
   "cell_type": "code",
   "execution_count": null,
   "metadata": {},
   "outputs": [],
   "source": [
    "def main():\n",
    "    # --- Part 1: Single Ring Coil Geometry ---\n",
    "    print(\"--- Visualizing Single Ring Coil ---\")\n",
    "    ring_coil = RingCoil(1.0, 0.5, 20, np.array([0,0,0]), np.array([0,0,1]))\n",
    "\n",
    "    fig1 = plt.figure(figsize=(8, 8))\n",
    "    ax1 = fig1.add_subplot(111, projection='3d')\n",
    "    ring_coil.plot(ax=ax1)\n",
    "    ax1.set_title(\"Single Ring Coil Geometry\")\n",
    "    plt.savefig(\"03_single_ring_geometry.png\")\n",
    "    plt.show()\n",
    "\n",
    "    # --- Part 2: Helmholtz Coil Geometry ---\n",
    "    print(\"\\n--- Visualizing Helmholtz Coil ---\")\n",
    "    helmholtz_coil = HelmholtzCoil(1.0, 0.5, 20, np.array([0,0,0]), np.array([0,0,1]))\n",
    "\n",
    "    fig2 = plt.figure(figsize=(8, 8))\n",
    "    ax2 = fig2.add_subplot(111, projection='3d')\n",
    "    helmholtz_coil.plot(ax=ax2)\n",
    "    ax2.set_title(\"Helmholtz Coil Geometry\")\n",
    "    plt.savefig(\"03_helmholtz_geometry.png\")\n",
    "    plt.show()\n",
    "\n",
    "    # --- Part 3: Field Plotting with Helmholtz Coil ---\n",
    "    # 1D Plot\n",
    "    print(\"\\n--- 1D Field Plot ---\")\n",
    "    fig3, ax3 = plt.subplots()\n",
    "    plot_1d_field(helmholtz_coil, 'z', axis='z', num_points=50, ax=ax3)\n",
    "    ax3.set_title(\"Z-component along the z-axis of a Helmholtz Coil\")\n",
    "    plt.savefig(\"03_helmholtz_1d_plot.png\")\n",
    "    plt.show()\n",
    "\n",
    "    # 2D Plot\n",
    "    print(\"\\n--- 2D Field Plot ---\")\n",
    "    fig4, ax4 = plt.subplots()\n",
    "    plot_2d_field(helmholtz_coil, 'norm', plane='xz', num_points_a=10, num_points_b=10, ax=ax4)\n",
    "    ax4.set_title(\"Vector Field Heatmap on the XZ-plane of a Helmholtz Coil\")\n",
    "    plt.savefig(\"03_helmholtz_2d_plot.png\")\n",
    "    plt.show()\n",
    "\n",
    "    # 3D Plot\n",
    "    print(\"\\n--- 3D Field Plot ---\")\n",
    "    fig5 = plt.figure(figsize=(10, 8))\n",
    "    ax5 = fig5.add_subplot(111, projection='3d')\n",
    "    plot_field_vectors_3d(helmholtz_coil, num_points_a=5, num_points_b=5, num_points_c=5, ax=ax5)\n",
    "    helmholtz_coil.plot(ax=ax5, color='r')\n",
    "    ax5.set_title(\"3D B-field of a Helmholtz Coil\")\n",
    "    plt.savefig(\"03_helmholtz_3d_plot.png\")\n",
    "    plt.show()\n",
    "\n",
    "main()"
   ]
  }
 ],
 "metadata": {
  "kernelspec": {
   "display_name": "Python 3",
   "language": "python",
   "name": "python3"
  },
  "language_info": {
   "codemirror_mode": {
    "name": "ipython",
    "version": 3
   },
   "file_extension": ".py",
   "mimetype": "text/x-python",
   "name": "python",
   "nbconvert_exporter": "python",
   "pygments_lexer": "ipython3",
   "version": "3.12.11"
  }
 },
 "nbformat": 4,
 "nbformat_minor": 4
}