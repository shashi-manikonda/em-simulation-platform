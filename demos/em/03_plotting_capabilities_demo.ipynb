{
 "cells": [
  {
   "cell_type": "markdown",
   "id": "7fb27b941602401d91542211134fc71a",
   "metadata": {},
   "source": [
    "# Plotting Capabilities Demo\n",
    "\n",
    "This notebook showcases the various field plotting capabilities of the `em_app`. It demonstrates:\n",
    "\n",
    "1.  **3D Geometry Plotting:** Visualizing the physical structure of current sources.\n",
    "2.  **1D Field Plotting:** Plotting a specific component of the B-field along a line.\n",
    "3.  **2D Field Plotting:** Visualizing the B-field as a heatmap and vector field on a plane.\n",
    "4.  **3D Field Plotting:** Visualizing the B-field vectors in a 3D volume.\n",
    "\n",
    "To do this, we first define a custom `HelmholtzCoil` class."
   ]
  },
  {
   "cell_type": "code",
   "execution_count": null,
   "id": "dfb23df6",
   "metadata": {},
   "outputs": [],
   "source": [
    "import matplotlib.pyplot as plt\n",
    "import numpy as np\n",
    "from mtflib import mtf\n",
    "\n",
    "from em_app.plotting import plot_1d_field, plot_2d_field, plot_field_vectors_3d\n",
    "from em_app.sources import Coil, RingCoil"
   ]
  },
  {
   "cell_type": "code",
   "execution_count": null,
   "id": "e6fbc59d",
   "metadata": {},
   "outputs": [],
   "source": [
    "mtf.initialize_mtf(max_order=6, max_dimension=4)"
   ]
  },
  {
   "cell_type": "markdown",
   "id": "acae54e37e7d407bbb7b55eff062a284",
   "metadata": {},
   "source": [
    "## The Helmholtz Coil\n",
    "\n",
    "A Helmholtz coil is a special arrangement of two identical circular coils placed symmetrically along a common axis. When the current flows in the same direction in both coils, they produce a region of very uniform magnetic field in the center. Here, we define a `HelmholtzCoil` class that inherits from the base `Coil` class for easy use with our plotting functions."
   ]
  },
  {
   "cell_type": "code",
   "execution_count": null,
   "id": "d8044733",
   "metadata": {},
   "outputs": [],
   "source": [
    "class HelmholtzCoil(Coil):\n",
    "    def __init__(self, current, radius, num_segments, center_point, axis_direction):\n",
    "        super().__init__(current)\n",
    "        self.coil1 = RingCoil(\n",
    "            current,\n",
    "            radius,\n",
    "            num_segments,\n",
    "            center_point - axis_direction * radius / 2,\n",
    "            axis_direction,\n",
    "        )\n",
    "        self.coil2 = RingCoil(\n",
    "            current,\n",
    "            radius,\n",
    "            num_segments,\n",
    "            center_point + axis_direction * radius / 2,\n",
    "            axis_direction,\n",
    "        )\n",
    "        self.segment_centers = np.concatenate([\n",
    "            self.coil1.segment_centers,\n",
    "            self.coil2.segment_centers,\n",
    "        ])\n",
    "        self.segment_lengths = np.concatenate([\n",
    "            self.coil1.segment_lengths,\n",
    "            self.coil2.segment_lengths,\n",
    "        ])\n",
    "        self.segment_directions = np.concatenate([\n",
    "            self.coil1.segment_directions,\n",
    "            self.coil2.segment_directions,\n",
    "        ])\n",
    "        self.current = current\n",
    "        self.use_mtf_for_segments = self.coil1.use_mtf_for_segments\n",
    "\n",
    "    def get_max_size(self):\n",
    "        # A simple implementation for sizing the plots\n",
    "        size1 = self.coil1.get_max_size()\n",
    "        size2 = self.coil2.get_max_size()\n",
    "        return np.maximum(size1, size2) * np.array([1, 1, 2])\n",
    "\n",
    "    def get_center_point(self):\n",
    "        return np.mean(\n",
    "            [self.coil1.get_center_point(), self.coil2.get_center_point()], axis=0\n",
    "        )\n",
    "\n",
    "    def plot(self, ax=None, **kwargs):\n",
    "        self.coil1.plot(ax, **kwargs)\n",
    "        self.coil2.plot(ax, **kwargs)"
   ]
  },
  {
   "cell_type": "markdown",
   "id": "9a63283cbaf04dbcab1f6479b197f3a8",
   "metadata": {},
   "source": [
    "## Part 1 & 2: Geometry Visualization\n",
    "\n",
    "First, we'll visualize the 3D geometry of a single `RingCoil` and our newly created `HelmholtzCoil`."
   ]
  },
  {
   "cell_type": "code",
   "execution_count": null,
   "id": "a9b8c7d6",
   "metadata": {},
   "outputs": [],
   "source": [
    "# --- Single Ring Coil Geometry ---\n",
    "print(\"--- Visualizing Single Ring Coil ---\")\n",
    "ring_coil = RingCoil(1.0, 0.5, 20, np.array([0, 0, 0]), np.array([0, 0, 1]))\n",
    "\n",
    "fig1 = plt.figure(figsize=(8, 8))\n",
    "ax1 = fig1.add_subplot(111, projection=\"3d\")\n",
    "ring_coil.plot(ax=ax1)\n",
    "ax1.set_title(\"Single Ring Coil Geometry\")\n",
    "plt.show()\n",
    "\n",
    "# --- Helmholtz Coil Geometry ---\n",
    "print(\"\\n--- Visualizing Helmholtz Coil ---\")\n",
    "helmholtz_coil = HelmholtzCoil(1.0, 0.5, 20, np.array([0, 0, 0]), np.array([0, 0, 1]))\n",
    "\n",
    "fig2 = plt.figure(figsize=(8, 8))\n",
    "ax2 = fig2.add_subplot(111, projection=\"3d\")\n",
    "helmholtz_coil.plot(ax=ax2)\n",
    "ax2.set_title(\"Helmholtz Coil Geometry\")\n",
    "plt.show()"
   ]
  },
  {
   "cell_type": "markdown",
   "id": "8dd0d8092fe74a7c96281538738b07e2",
   "metadata": {},
   "source": [
    "## Part 3: Field Plotting\n",
    "\n",
    "Now we'll use the `HelmholtzCoil` to demonstrate the different field plotting functions."
   ]
  },
  {
   "cell_type": "markdown",
   "id": "72eea5119410473aa328ad9291626812",
   "metadata": {},
   "source": [
    "### 1D Field Plot\n",
    "\n",
    "Plot the z-component of the B-field along the central z-axis. Notice the flat, uniform region between the coils."
   ]
  },
  {
   "cell_type": "code",
   "execution_count": null,
   "id": "f0e1d2c3",
   "metadata": {},
   "outputs": [],
   "source": [
    "print(\"\\n--- 1D Field Plot ---\")\n",
    "fig3, ax3 = plt.subplots()\n",
    "plot_1d_field(helmholtz_coil, \"z\", axis=\"z\", num_points=50, ax=ax3)\n",
    "ax3.set_title(\"Z-component along the z-axis of a Helmholtz Coil\")\n",
    "plt.show()"
   ]
  },
  {
   "cell_type": "markdown",
   "id": "8edb47106e1a46a883d545849b8ab81b",
   "metadata": {},
   "source": [
    "### 2D Field Plot\n",
    "\n",
    "Plot the magnitude of the B-field as a heatmap on the XZ-plane, with vectors indicating the field direction."
   ]
  },
  {
   "cell_type": "code",
   "execution_count": null,
   "id": "g1f2e3d4",
   "metadata": {},
   "outputs": [],
   "source": [
    "print(\"\\n--- 2D Field Plot ---\")\n",
    "fig4, ax4 = plt.subplots()\n",
    "plot_2d_field(\n",
    "    helmholtz_coil, \"norm\", plane=\"xz\", num_points_a=10, num_points_b=10, ax=ax4\n",
    ")\n",
    "ax4.set_title(\"Vector Field Heatmap on the XZ-plane of a Helmholtz Coil\")\n",
    "plt.show()"
   ]
  },
  {
   "cell_type": "markdown",
   "id": "10185d26023b46108eb7d9f57d49d2b3",
   "metadata": {},
   "source": [
    "### 3D Field Plot\n",
    "\n",
    "Plot the B-field vectors in a 3D volume surrounding the Helmholtz coil."
   ]
  },
  {
   "cell_type": "code",
   "execution_count": null,
   "id": "h2g3f4e5",
   "metadata": {},
   "outputs": [],
   "source": [
    "print(\"\\n--- 3D Field Plot ---\")\n",
    "fig5 = plt.figure(figsize=(10, 8))\n",
    "ax5 = fig5.add_subplot(111, projection=\"3d\")\n",
    "plot_field_vectors_3d(\n",
    "    helmholtz_coil, num_points_a=5, num_points_b=5, num_points_c=5, ax=ax5\n",
    ")\n",
    "helmholtz_coil.plot(ax=ax5, color=\"r\")\n",
    "ax5.set_title(\"3D B-field of a Helmholtz Coil\")\n",
    "plt.show()"
   ]
  }
 ],
 "metadata": {
  "jupytext": {
   "cell_metadata_filter": "-all",
   "main_language": "python",
   "notebook_metadata_filter": "-all"
  },
  "kernelspec": {
   "display_name": ".mtfvenv",
   "language": "python",
   "name": "python3"
  },
  "language_info": {
   "name": "python",
   "version": "3.12.11"
  }
 },
 "nbformat": 4,
 "nbformat_minor": 5
}
