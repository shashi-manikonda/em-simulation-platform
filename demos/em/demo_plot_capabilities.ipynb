{
 "cells": [
  {
   "cell_type": "markdown",
   "metadata": {},
   "source": [
    "# Plotting Capabilities Demo"
   ]
  },
  {
   "cell_type": "markdown",
   "metadata": {},
   "source": [
    "This notebook demonstrates the various plotting methods available in the `em_app` package. We will create a `RingCoil` and then generate several plots to visualize its geometry and the magnetic field it produces."
   ]
  },
  {
   "cell_type": "code",
   "execution_count": null,
   "metadata": {},
   "outputs": [],
   "source": [
    "import numpy as np\n",
    "import matplotlib.pyplot as plt\n",
    "from em_app.currentcoils import RingCoil\n",
    "from mtflib import mtf\n",
    "\n",
    "mtf.initialize_mtf(max_order=4, max_dimension=4)\n",
    "\n",
    "# Define a single ring coil\n",
    "ring_coil = RingCoil(\n",
    "    current=1e6,  # 1 MA\n",
    "    radius=0.5,  # 0.5 meters\n",
    "    num_segments=40,\n",
    "    center_point=np.array([0, 0, 0]),\n",
    "    axis_direction=np.array([0, 0, 1]),\n",
    "    wire_thickness=0.01,  # 1 cm\n",
    "    use_mtf_for_segments=True,\n",
    ")"
   ]
  },
  {
   "cell_type": "markdown",
   "metadata": {},
   "source": [
    "## 1. Plot the Coil Geometry"
   ]
  },
  {
   "cell_type": "code",
   "execution_count": null,
   "metadata": {},
   "outputs": [],
   "source": [
    "print(\"Plotting the coil geometry...\")\n",
    "fig_coil = plt.figure()\n",
    "ax_coil = fig_coil.add_subplot(111, projection=\"3d\")\n",
    "ring_coil.plot(ax=ax_coil, num_interpolation_points=10, show_axis=True)\n",
    "ax_coil.set_title(\"Ring Coil Geometry\")\n",
    "ax_coil.set_xlabel(\"X-axis\")\n",
    "ax_coil.set_ylabel(\"Y-axis\")\n",
    "ax_coil.set_zlabel(\"Z-axis\")\n",
    "plt.tight_layout()\n",
    "plt.show()"
   ]
  },
  {
   "cell_type": "markdown",
   "metadata": {},
   "source": [
    "## 2. Plot 1D Field Components"
   ]
  },
  {
   "cell_type": "code",
   "execution_count": null,
   "metadata": {},
   "outputs": [],
   "source": [
    "print(\"Plotting 1D B-field components along the Z-axis...\")\n",
    "fig_1d, ax_1d = plt.subplots()\n",
    "ring_coil.plot_1d_field(\n",
    "    field_component='Bx',\n",
    "    axis='z',\n",
    "    num_points=100,\n",
    "    ax=ax_1d\n",
    ")\n",
    "ring_coil.plot_1d_field(\n",
    "    field_component='By',\n",
    "    axis='z',\n",
    "    num_points=100,\n",
    "    ax=ax_1d\n",
    ")\n",
    "ring_coil.plot_1d_field(\n",
    "    field_component='Bz',\n",
    "    axis='z',\n",
    "    num_points=100,\n",
    "    ax=ax_1d\n",
    ")\n",
    "ax_1d.set_title(\"1D B-field Components along the Z-axis\")\n",
    "ax_1d.grid(True)\n",
    "plt.tight_layout()\n",
    "plt.legend(['Bx', 'By', 'Bz'])\n",
    "plt.show()"
   ]
  },
  {
   "cell_type": "markdown",
   "metadata": {},
   "source": [
    "## 3. Plot 2D Field Heatmap"
   ]
  },
  {
   "cell_type": "code",
   "execution_count": null,
   "metadata": {},
   "outputs": [],
   "source": [
    "print(\"Plotting 2D B-field heatmap on the XZ-plane...\")\n",
    "fig_2d, ax_2d = plt.subplots()\n",
    "ring_coil.plot_2d_field(\n",
    "    field_component=\"Bnorm\",\n",
    "    plane=\"xz\",\n",
    "    num_points_a=20,\n",
    "    num_points_b=20,\n",
    "    ax=ax_2d,\n",
    ")\n",
    "ax_2d.set_title(\"2D B-field Heatmap Plot (XZ-plane)\")\n",
    "plt.tight_layout()\n",
    "plt.show()"
   ]
  },
    {
   "cell_type": "markdown",
   "metadata": {},
   "source": [
    "## 4. Plot 3D Field Vectors"
   ]
  },
  {
   "cell_type": "code",
   "execution_count": null,
   "metadata": {},
   "outputs": [],
   "source": [
    "print(\"Plotting 3D magnetic field vectors...\")\n",
    "fig_3d = plt.figure(figsize=(10, 8))\n",
    "ax_3d = fig_3d.add_subplot(111, projection=\"3d\")\n",
    "\n",
    "# Plot the coil first for visual context\n",
    "ring_coil.plot(ax=ax_3d, color='r')\n",
    "\n",
    "# Plot the field vectors\n",
    "ring_coil.plot_field_vectors_3d(\n",
    "    num_points_a=7,\n",
    "    num_points_b=7,\n",
    "    num_points_c=7,\n",
    "    ax=ax_3d\n",
    ")\n",
    "ax_3d.set_title(\"3D Magnetic Field Vectors with Coil\")\n",
    "plt.tight_layout()\n",
    "plt.show()"
   ]
  }
 ],
 "metadata": {
  "kernelspec": {
   "display_name": ".mtfvenv",
   "language": "python",
   "name": "python3"
  },
  "language_info": {
   "codemirror_mode": {
    "name": "ipython",
    "version": 3
   },
   "file_extension": ".py",
   "mimetype": "text/x-python",
   "name": "python",
   "nbconvert_exporter": "python",
   "pygments_lexer": "ipython3",
   "version": "3.12.11"
  }
 },
 "nbformat": 4,
 "nbformat_minor": 5
}
