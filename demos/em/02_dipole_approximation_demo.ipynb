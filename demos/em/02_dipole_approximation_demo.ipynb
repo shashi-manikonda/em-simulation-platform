{
 "cells": [
  {
   "cell_type": "markdown",
   "metadata": {},
   "source": [
    "# Magnetic Dipole Approximation Validation\n",
    "\n",
    "This notebook demonstrates the validity of the magnetic dipole approximation for a current loop. It calculates the magnetic field from a `RingCoil` using the full Biot-Savart law and compares it to the field calculated using the dipole approximation at various distances.\n",
    "\n",
    "The key takeaway is that the dipole approximation becomes more accurate as the observation point moves farther away from the current loop."
   ]
  },
  {
   "cell_type": "code",
   "execution_count": null,
   "id": "1781c2a4",
   "metadata": {},
   "outputs": [],
   "source": [
    "import numpy as np\n",
    "import matplotlib.pyplot as plt\n",
    "from em_app.sources import RingCoil\n",
    "from em_app.solvers import calculate_b_field\n",
    "from mtflib import mtf"
   ]
  },
  {
   "cell_type": "code",
   "execution_count": null,
   "id": "c65cfa32",
   "metadata": {},
   "outputs": [],
   "source": [
    "mtf.initialize_mtf(max_order=6, max_dimension=4)"
   ]
  },
  {
   "cell_type": "markdown",
   "metadata": {},
   "source": [
    "## The Magnetic Dipole B-Field\n",
    "\n",
    "At distances far from a current loop, the magnetic field can be approximated by that of a perfect magnetic dipole. The formula for the magnetic field of a dipole with magnetic moment **m** at a position **r** is:\n",
    "\n",
    "$$ \\vec{B}_{dipole} = \\frac{\\mu_0}{4 \\pi r^3} (3(\\vec{m} \\cdot \\hat{r})\\hat{r} - \\vec{m}) $$\n",
    "\n",
    "where the magnetic moment **m** for a current loop is given by **m** = I * **A**, with **A** being the vector area of the loop."
   ]
  },
  {
   "cell_type": "code",
   "execution_count": null,
   "id": "00920c65",
   "metadata": {},
   "outputs": [],
   "source": [
    "def magnetic_dipole_b_field(magnetic_moment, r_vec):\n",
    "    \"\"\"\n",
    "    Calculates the B-field from a magnetic dipole.\n",
    "    \"\"\"\n",
    "    mu_0 = 4 * np.pi * 1e-7\n",
    "    r_mag = np.linalg.norm(r_vec)\n",
    "    r_hat = r_vec / r_mag\n",
    "\n",
    "    term1 = 3 * np.dot(magnetic_moment, r_hat) * r_hat\n",
    "    term2 = magnetic_moment\n",
    "\n",
    "    b_field = (mu_0 / (4 * np.pi * r_mag**3)) * (term1 - term2)\n",
    "    return b_field"
   ]
  },
  {
   "cell_type": "markdown",
   "metadata": {},
   "source": [
    "## Simulation Setup\n",
    "\n",
    "We will create a `RingCoil` and then calculate the relative error between the full Biot-Savart law calculation and the dipole approximation at increasing distances from the coil."
   ]
  },
  {
   "cell_type": "code",
   "execution_count": null,
   "id": "a9b8c7d6",
   "metadata": {},
   "outputs": [],
   "source": [
    "# --- Setup ---\n",
    "current = 1.0\n",
    "radius = 0.1\n",
    "ring_coil = RingCoil(current, radius, num_segments=20, center_point=np.array([0,0,0]), axis_direction=np.array([0,0,1]))\n",
    "\n",
    "# Magnetic moment of the ring coil\n",
    "area = np.pi * radius**2\n",
    "magnetic_moment = current * area * np.array([0, 0, 1])\n",
    "\n",
    "# --- Calculation ---\n",
    "distances = np.logspace(0, 3, 20) * radius # from 1 to 1000 radii\n",
    "errors = []\n",
    "\n",
    "for d in distances:\n",
    "    observation_point = np.array([[0, 0, d]])\n",
    "\n",
    "    # Full Biot-Savart calculation\n",
    "    b_field = calculate_b_field(ring_coil, observation_point)\n",
    "    b_field_numerical = b_field._vectors_mtf[0].to_numpy_array()\n",
    "\n",
    "    # Dipole approximation\n",
    "    b_field_dipole = magnetic_dipole_b_field(magnetic_moment, observation_point[0])\n",
    "\n",
    "    # Calculate relative error\n",
    "    error = np.linalg.norm(b_field_numerical - b_field_dipole) / np.linalg.norm(b_field_numerical)\n",
    "    errors.append(error)"
   ]
  },
  {
   "cell_type": "markdown",
   "metadata": {},
   "source": [
    "## Error Visualization\n",
    "\n",
    "Finally, we plot the relative error as a function of the distance from the coil, normalized by the coil's radius. The log-log plot clearly shows that the error decreases significantly as the distance increases."
   ]
  },
  {
   "cell_type": "code",
   "execution_count": null,
   "id": "f0e1d2c3",
   "metadata": {},
   "outputs": [],
   "source": [
    "plt.figure(figsize=(8, 6))\n",
    "plt.loglog(distances / radius, errors, 'b-o')\n",
    "plt.title(\"Dipole Approximation Error vs. Distance\")\n",
    "plt.xlabel(\"Distance from coil (in radii)\")\n",
    "plt.ylabel(\"Relative Error\")\n",
    "plt.grid(True, which=\"both\", ls=\"--\")\n",
    "plt.savefig(\"02_dipole_approximation_error.png\")\n",
    "plt.show()"
   ]
  }
 ],
 "metadata": {
  "jupytext": {
   "cell_metadata_filter": "-all",
   "main_language": "python",
   "notebook_metadata_filter": "-all"
  }
 },
 "nbformat": 4,
 "nbformat_minor": 5
}