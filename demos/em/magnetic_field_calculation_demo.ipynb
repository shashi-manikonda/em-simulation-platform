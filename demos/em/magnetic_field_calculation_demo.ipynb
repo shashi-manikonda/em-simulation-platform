{
 "cells": [
  {
   "cell_type": "markdown",
   "id": "6ed59e36",
   "metadata": {},
   "source": [
    "# mtflib Demo: Magnetic Field Calculation and Validation\n",
    "\n",
    "This Jupyter Notebook demonstrates the calculation of the magnetic field of a current ring using `mtflib`."
   ]
  },
  {
   "cell_type": "markdown",
   "id": "18710da6",
   "metadata": {},
   "source": [
    "## 1. Import Libraries and Initialize"
   ]
  },
  {
   "cell_type": "code",
   "execution_count": 2,
   "id": "imports_setup",
   "metadata": {},
   "outputs": [],
   "source": [
    "import numpy as np\n",
    "from em_app.currentcoils import RingCoil\n",
    "from em_app import plotting\n",
    "import matplotlib.pyplot as plt\n",
    "from mtflib import mtf\n",
    "\n",
    "mtf.initialize_mtf(max_order=6, max_dimension=4)"
   ]
  },
  {
   "cell_type": "markdown",
   "id": "396fa2e3",
   "metadata": {},
   "source": [
    "### 1a. Visualize the Geometry"
   ]
  },
  {
   "cell_type": "code",
   "execution_count": 3,
   "id": "geometry_visualization",
   "metadata": {},
   "outputs": [],
   "source": [
    "ring_radius = 0.4\n",
    "center_point = np.array([0, 0, 0])\n",
    "axis_direction = np.array([0, 0, 1])\n",
    "ring = RingCoil(1.0, ring_radius, 50, center_point, axis_direction)\n",
    "\n",
    "fig = plt.figure(figsize=(10, 10))\n",
    "ax = fig.add_subplot(111, projection=\"3d\")\n",
    "ring.plot(ax)\n",
    "ax.set_title(\"Geometry of the Current Ring\")\n",
    "plt.show()"
   ]
  },
  {
   "cell_type": "markdown",
   "id": "6b4ada35",
   "metadata": {},
   "source": [
    "## 2. Calculate and Plot B-field"
   ]
  },
  {
   "cell_type": "code",
   "execution_count": 4,
   "id": "calculate_plot",
   "metadata": {},
   "outputs": [],
   "source": [
    "field_points = np.array([[0, 0, z] for z in np.linspace(-1, 1, 20)])\n",
    "b_field_vectors = ring.biot_savart(field_points)\n",
    "b_field_numerical = np.array([b.to_numpy_array() for b in b_field_vectors])\n",
    "\n",
    "fig = plt.figure(figsize=(8, 6))\n",
    "plt.plot(field_points[:, 2], b_field_numerical[:, 2], \"b-o\")\n",
    "plt.title(\"Bz along the z-axis\")\n",
    "plt.xlabel(\"z-position\")\n",
    "plt.ylabel(\"Bz\")\n",
    "plt.grid(True)\n",
    "plt.show()"
   ]
  }
 ],
 "metadata": {
  "kernelspec": {
   "display_name": "Python 3",
   "language": "python",
   "name": "python3"
  },
  "language_info": {
   "codemirror_mode": {
    "name": "ipython",
    "version": 3
   },
   "file_extension": ".py",
   "mimetype": "text/x-python",
   "name": "python",
   "nbconvert_exporter": "python",
   "pygments_lexer": "ipython3",
   "version": "3.9.7"
  }
 },
 "nbformat": 4,
 "nbformat_minor": 4
}
