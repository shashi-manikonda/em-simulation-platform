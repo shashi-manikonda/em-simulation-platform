{
 "cells": [
  {
   "cell_type": "markdown",
   "id": "e5b8c997",
   "metadata": {},
   "source": [
    "# Straight Wire Magnetic Field Demo"
   ]
  },
  {
   "cell_type": "code",
   "execution_count": 1,
   "id": "9c8846c7",
   "metadata": {},
   "outputs": [],
   "source": [
    "import numpy as np\n",
    "from em_app import currentcoils"
   ]
  },
  {
   "cell_type": "markdown",
   "id": "8645c4f4-header",
   "metadata": {},
   "source": [
    "## 1. Numerical B-Field Calculation"
   ]
  },
  {
   "cell_type": "code",
   "execution_count": 2,
   "id": "8645c4f4",
   "metadata": {},
   "outputs": [],
   "source": [
    "start_point = [0, 0, -1]\n",
    "end_point = [0, 0, 1]\n",
    "current = 1.0\n",
    "num_segments = 200\n",
    "\n",
    "wire = currentcoils.StraightWire(current, start_point, end_point, num_segments)\n",
    "\n",
    "observation_point = np.array([[0.1, 0, 0]])\n",
    "B_numerical = wire.biot_savart(observation_point)\n",
    "\n",
    "print(f\"Computed B-field: {B_numerical[0]}\")"
   ]
  },
  {
   "cell_type": "markdown",
   "id": "6cfbb945-header",
   "metadata": {},
   "source": [
    "## 2. Analytical B-Field Calculation"
   ]
  },
  {
   "cell_type": "code",
   "execution_count": 3,
   "id": "6cfbb945",
   "metadata": {},
   "outputs": [],
   "source": [
    "mu_0 = 4 * np.pi * 1e-7\n",
    "a = 0.1\n",
    "z1 = -1.0\n",
    "z2 = 1.0\n",
    "z = 0\n",
    "\n",
    "cos_theta_1 = (z - z1) / np.sqrt((z - z1) ** 2 + a**2)\n",
    "cos_theta_2 = (z - z2) / np.sqrt((z - z2) ** 2 + a**2)\n",
    "\n",
    "B_phi_mag = (mu_0 * current / (4 * np.pi * a)) * (cos_theta_1 - cos_theta_2)\n",
    "\n",
    "print(f\"Analytical B-field (magnitude): {B_phi_mag}\")"
   ]
  }
 ],
 "metadata": {
  "kernelspec": {
   "display_name": "Python 3",
   "language": "python",
   "name": "python3"
  },
  "language_info": {
   "codemirror_mode": {
    "name": "ipython",
    "version": 3
   },
   "file_extension": ".py",
   "mimetype": "text/x-python",
   "name": "python",
   "nbconvert_exporter": "python",
   "pygments_lexer": "ipython3",
   "version": "3.9.7"
  }
 },
 "nbformat": 4,
 "nbformat_minor": 4
}
