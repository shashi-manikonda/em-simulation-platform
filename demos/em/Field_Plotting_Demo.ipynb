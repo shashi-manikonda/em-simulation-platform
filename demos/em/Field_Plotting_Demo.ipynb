{
 "cells": [
  {
   "cell_type": "markdown",
   "metadata": {},
   "source": [
    "# Field Plotting Demo for a Helmholtz Coil"
   ]
  },
  {
   "cell_type": "markdown",
   "metadata": {},
   "source": [
    "This notebook demonstrates how to use the plotting capabilities of the `em_app` package for a system of multiple coils, specifically a Helmholtz coil. Since the plotting functions are designed to work with a single coil instance, we will create a wrapper class `HelmholtzCoil` to represent the two-coil system. This class will have its own `biot_savart` method to calculate the combined field."
   ]
  },
  {
   "cell_type": "code",
   "execution_count": null,
   "metadata": {},
   "outputs": [],
   "source": [
    "import numpy as np\n",
    "import matplotlib.pyplot as plt\n",
    "from mtflib import mtf\n",
    "from em_app.currentcoils import RingCoil, Coil\n",
    "from em_app.magneticfield import Bfield\n",
    "\n",
    "mtf.initialize_mtf(max_order=6, max_dimension=4)\n",
    "mtf.set_etol(1e-12)"
   ]
  },
  {
   "cell_type": "markdown",
   "metadata": {},
   "source": [
    "## 1. Define a Helmholtz Coil Wrapper Class"
   ]
  },
  {
   "cell_type": "code",
   "execution_count": null,
   "metadata": {},
   "outputs": [],
   "source": [
    "class HelmholtzCoil:\n",
    "    def __init__(self, coil1, coil2):\n",
    "        self.coil1 = coil1\n",
    "        self.coil2 = coil2\n",
    "\n",
    "    def biot_savart(self, field_points, backend=\"python\"):\n",
    "        b_field1 = self.coil1.biot_savart(field_points, backend)\n",
    "        b_field2 = self.coil2.biot_savart(field_points, backend)\n",
    "        \n",
    "        _, vectors1 = b_field1._get_numerical_data()\n",
    "        _, vectors2 = b_field2._get_numerical_data()\n",
    "        \n",
    "        combined_vectors = vectors1 + vectors2\n",
    "        \n",
    "        return Bfield(field_points=field_points, b_vectors=combined_vectors)\n",
    "        \n",
    "    def get_max_size(self):\n",
    "        # For simplicity, we'll approximate the max size based on the individual coils\n",
    "        size1 = self.coil1.get_max_size()\n",
    "        size2 = self.coil2.get_max_size()\n",
    "        return np.maximum(size1, size2) * 1.5 # A bit larger to be safe\n",
    "\n",
    "    def get_center_point(self):\n",
    "        # The center of the Helmholtz coil is the origin\n",
    "        return np.array([0.0, 0.0, 0.0])\n",
    "\n",
    "    def plot_1d_field(self, *args, **kwargs):\n",
    "        Coil.plot_1d_field(self, *args, **kwargs)\n",
    "\n",
    "    def plot_2d_field(self, *args, **kwargs):\n",
    "        Coil.plot_2d_field(self, *args, **kwargs)\n",
    "\n",
    "    def plot_field_vectors_3d(self, *args, **kwargs):\n",
    "        Coil.plot_field_vectors_3d(self, *args, **kwargs)"
   ]
  },
  {
   "cell_type": "markdown",
   "metadata": {},
   "source": [
    "## 2. Define the Helmholtz Coil Configuration"
   ]
  },
  {
   "cell_type": "code",
   "execution_count": null,
   "metadata": {},
   "outputs": [],
   "source": [
    "radius = 0.5\n",
    "separation = 0.5\n",
    "current = 1.0\n",
    "num_segments = 20\n",
    "\n",
    "# First coil\n",
    "center1 = np.array([0, 0, -separation / 2])\n",
    "axis1 = np.array([0, 0, 1])\n",
    "coil1 = RingCoil(current, radius, num_segments, center1, axis1)\n",
    "\n",
    "# Second coil\n",
    "center2 = np.array([0, 0, separation / 2])\n",
    "axis2 = np.array([0, 0, 1])\n",
    "coil2 = RingCoil(current, radius, num_segments, center2, axis2)\n",
    "\n",
    "helmholtz_coil = HelmholtzCoil(coil1, coil2)"
   ]
  },
  {
   "cell_type": "markdown",
   "metadata": {},
   "source": [
    "## 3. Demonstrate `plot_1d_field`"
   ]
  },
  {
   "cell_type": "code",
   "execution_count": null,
   "metadata": {},
   "outputs": [],
   "source": [
    "start = np.array([0.01, 0, -1])\n",
    "end = np.array([0.01, 0, 1])\n",
    "fig, ax = plt.subplots()\n",
    "helmholtz_coil.plot_1d_field(field_component=\"Bz\", start_point=start, end_point=end, ax=ax)\n",
    "plt.show()"
   ]
  },
  {
   "cell_type": "markdown",
   "metadata": {},
   "source": [
    "## 4. Demonstrate `plot_2d_field`"
   ]
  },
  {
   "cell_type": "code",
   "execution_count": null,
   "metadata": {},
   "outputs": [],
   "source": [
    "center = np.array([0, 0.01, 0])\n",
    "normal = np.array([0, 1, 0])\n",
    "fig, ax = plt.subplots()\n",
    "helmholtz_coil.plot_2d_field(\n",
    "    plot_type=\"quiver\",\n",
    "    plane=\"xz\",\n",
    "    center=center,\n",
    "    size_a=2,\n",
    "    size_b=2,\n",
    "    num_points_a=15,\n",
    "    num_points_b=15,\n",
    "    ax=ax\n",
    ")\n",
    "plt.show()"
   ]
  },
  {
   "cell_type": "markdown",
   "metadata": {},
   "source": [
    "## 5. Demonstrate `plot_field_vectors_3d`"
   ]
  },
  {
   "cell_type": "code",
   "execution_count": null,
   "metadata": {},
   "outputs": [],
   "source": [
    "fig = plt.figure(figsize=(10, 8))\n",
    "ax = fig.add_subplot(111, projection=\"3d\")\n",
    "helmholtz_coil.plot_field_vectors_3d(ax=ax, num_points_a=5, num_points_b=5, num_points_c=5)\n",
    "plt.show()"
   ]
  }
 ],
 "metadata": {
  "kernelspec": {
   "display_name": "python3",
   "language": "python",
   "name": "python3"
  },
  "language_info": {
   "codemirror_mode": {
    "name": "ipython",
    "version": 3
   },
   "file_extension": ".py",
   "mimetype": "text/x-python",
   "name": "python",
   "nbconvert_exporter": "python",
   "pygments_lexer": "ipython3",
   "version": "3.12.11"
  }
 },
 "nbformat": 4,
 "nbformat_minor": 5
}
