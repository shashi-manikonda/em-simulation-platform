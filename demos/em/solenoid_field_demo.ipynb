{
 "cells": [
  {
   "cell_type": "markdown",
   "id": "702172ad",
   "metadata": {},
   "source": [
    "# On-Axis Field of a Solenoid Demo\n",
    "\n",
    "This demo compares the numerically computed on-axis magnetic field of a model solenoid with the known analytical formula."
   ]
  },
  {
   "cell_type": "code",
   "execution_count": 1,
   "id": "77ff9d55",
   "metadata": {},
   "outputs": [],
   "source": [
    "import numpy as np\n",
    "from em_app import currentcoils, plotting\n",
    "import matplotlib.pyplot as plt"
   ]
  },
  {
   "cell_type": "markdown",
   "id": "78f0258c-header",
   "metadata": {},
   "source": [
    "## 1. Visualize the Geometry"
   ]
  },
  {
   "cell_type": "code",
   "execution_count": 2,
   "id": "78f0258c",
   "metadata": {},
   "outputs": [],
   "source": [
    "solenoid_radius = 0.1\n",
    "solenoid_length = 0.5\n",
    "num_rings_vis = 10\n",
    "\n",
    "loops = []\n",
    "ring_positions_z_vis = np.linspace(-solenoid_length / 2, solenoid_length / 2, num_rings_vis)\n",
    "for z_pos in ring_positions_z_vis:\n",
    "    pose = currentcoils.Pose(\n",
    "        position=np.array([0, 0, z_pos]),\n",
    "        orientation_axis=np.array([0, 0, 1]),\n",
    "        orientation_angle=0\n",
    "    )\n",
    "    loops.append(currentcoils.RingLoop(1.0, solenoid_radius, 20, pose))\n",
    "\n",
    "fig = plt.figure(figsize=(10, 10))\n",
    "ax = fig.add_subplot(111, projection='3d')\n",
    "plotting._plot_loop_geometry(ax, loops)\n",
    "ax.set_title('Geometry of the Solenoid Model')\n",
    "plt.show()"
   ]
  },
  {
   "cell_type": "markdown",
   "id": "294c97ce-header",
   "metadata": {},
   "source": [
    "## 2. Numerical B-Field Calculation"
   ]
  },
  {
   "cell_type": "code",
   "execution_count": 3,
   "id": "294c97ce",
   "metadata": {},
   "outputs": [],
   "source": [
    "num_rings = 100\n",
    "current = 1.0\n",
    "\n",
    "solenoid_loops = []\n",
    "ring_positions_z = np.linspace(-solenoid_length / 2, solenoid_length / 2, num_rings)\n",
    "for z_pos in ring_positions_z:\n",
    "    pose = currentcoils.Pose(\n",
    "        position=np.array([0, 0, z_pos]),\n",
    "        orientation_axis=np.array([0, 0, 1]),\n",
    "        orientation_angle=0\n",
    "    )\n",
    "    solenoid_loops.append(currentcoils.RingLoop(current, solenoid_radius, 20, pose))\n",
    "\n",
    "field_point = np.array([[0, 0, 0]])\n",
    "\n",
    "total_B_numerical = np.zeros(3)\n",
    "for loop in solenoid_loops:\n",
    "    total_B_numerical += loop.biot_savart(field_point)[0]\n",
    "\n",
    "print(f\"Computed Bz from Solenoid Model: {total_B_numerical[2]}\")"
   ]
  },
  {
   "cell_type": "markdown",
   "id": "a0542e06-header",
   "metadata": {},
   "source": [
    "## 3. Analytical Formula"
   ]
  },
  {
   "cell_type": "code",
   "execution_count": 4,
   "id": "a0542e06",
   "metadata": {},
   "outputs": [],
   "source": [
    "mu_0 = 4 * np.pi * 1e-7\n",
    "turns_per_meter = num_rings / solenoid_length\n",
    "z1 = -solenoid_length / 2\n",
    "z2 = solenoid_length / 2\n",
    "z = 0\n",
    "\n",
    "cos_theta_1 = (z - z1) / np.sqrt((z - z1)**2 + solenoid_radius**2)\n",
    "cos_theta_2 = (z - z2) / np.sqrt((z - z2)**2 + solenoid_radius**2)\n",
    "B_z_analytical = (mu_0 * turns_per_meter * current / 2) * (cos_theta_1 - cos_theta_2)\n",
    "\n",
    "print(f\"Analytical Bz for Solenoid: {B_z_analytical}\")"
   ]
  }
 ],
 "metadata": {
  "kernelspec": {
   "display_name": "Python 3",
   "language": "python",
   "name": "python3"
  },
  "language_info": {
   "codemirror_mode": {
    "name": "ipython",
    "version": 3
   },
   "file_extension": ".py",
   "mimetype": "text/x-python",
   "name": "python",
   "nbconvert_exporter": "python",
   "pygments_lexer": "ipython3",
   "version": "3.9.7"
  }
 },
 "nbformat": 4,
 "nbformat_minor": 4
}
