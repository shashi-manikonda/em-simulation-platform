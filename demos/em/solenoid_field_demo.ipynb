{
 "cells": [
  {
   "cell_type": "markdown",
   "id": "702172ad",
   "metadata": {},
   "source": [
    "# On-Axis Field of a Solenoid Demo\n",
    "\n",
    "This demo compares the numerically computed on-axis magnetic field of a model solenoid with the known analytical formula."
   ]
  },
  {
   "cell_type": "code",
   "execution_count": 1,
   "id": "77ff9d55",
   "metadata": {},
   "outputs": [],
   "source": [
    "import numpy as np\n",
    "from em_app.currentcoils import RingCoil\n",
    "import matplotlib.pyplot as plt\n",
    "from mtflib import mtf\n",
    "\n",
    "mtf.initialize_mtf(max_order=6, max_dimension=4)"
   ]
  },
  {
   "cell_type": "markdown",
   "id": "78f0258c-header",
   "metadata": {},
   "source": [
    "## 1. Visualize the Geometry"
   ]
  },
  {
   "cell_type": "code",
   "execution_count": 2,
   "id": "78f0258c",
   "metadata": {},
   "outputs": [],
   "source": [
    "solenoid_radius = 0.1\n",
    "solenoid_length = 0.5\n",
    "num_rings_vis = 10\n",
    "\n",
    "loops = []\n",
    "ring_positions_z_vis = np.linspace(\n",
    "    -solenoid_length / 2, solenoid_length / 2, num_rings_vis\n",
    ")\n",
    "axis_direction = np.array([0, 0, 1])\n",
    "for z_pos in ring_positions_z_vis:\n",
    "    center_point = np.array([0, 0, z_pos])\n",
    "    loops.append(RingCoil(1.0, solenoid_radius, 20, center_point, axis_direction))\n",
    "\n",
    "fig = plt.figure(figsize=(10, 10))\n",
    "ax = fig.add_subplot(111, projection=\"3d\")\n",
    "for loop in loops:\n",
    "    loop.plot(ax)\n",
    "ax.set_title(\"Geometry of the Solenoid Model\")\n",
    "plt.show()"
   ]
  },
  {
   "cell_type": "markdown",
   "id": "294c97ce-header",
   "metadata": {},
   "source": [
    "## 2. Numerical B-Field Calculation"
   ]
  },
  {
   "cell_type": "code",
   "execution_count": null,
   "id": "294c97ce",
   "metadata": {},
   "outputs": [],
   "source": [
    "# --- Numerical B-Field Calculation ---\n",
    "# Model the solenoid as a collection of rings\n",
    "num_rings_model = 100\n",
    "current = 1.0\n",
    "\n",
    "solenoid_loops_model = []\n",
    "ring_positions_z_model = np.linspace(-solenoid_length / 2, solenoid_length / 2, num_rings_model)\n",
    "axis_direction = np.array([0, 0, 1])\n",
    "for z_pos in ring_positions_z_model:\n",
    "    center_point = np.array([0, 0, z_pos])\n",
    "    solenoid_loops_model.append(\n",
    "        RingCoil(current, solenoid_radius, 20, center_point, axis_direction)\n",
    "    )\n",
    "\n",
    "# Define the point on the axis to calculate the field\n",
    "observation_point = np.array([[0, 0, 0]])\n",
    "\n",
    "# Sum the contribution from each loop in the solenoid model\n",
    "total_B_numerical = np.zeros(3, dtype=float)\n",
    "for loop in solenoid_loops_model:\n",
    "    b_field_object = loop.biot_savart(observation_point, backend='c')\n",
    "    _, b_field_numerical = b_field_object._get_numerical_data()\n",
    "    total_B_numerical += b_field_numerical[0]\n",
    "\n",
    "print(f\"Computed Bz from Solenoid Model: {total_B_numerical[2]}\")"
   ]
  },
  {
   "cell_type": "markdown",
   "id": "a0542e06-header",
   "metadata": {},
   "source": [
    "## 3. Analytical Formula"
   ]
  },
  {
   "cell_type": "code",
   "execution_count": null,
   "id": "a0542e06",
   "metadata": {},
   "outputs": [],
   "source": [
    "mu_0 = 4 * np.pi * 1e-7\n",
    "turns_per_meter = num_rings_model / solenoid_length\n",
    "z1 = -solenoid_length / 2\n",
    "z2 = solenoid_length / 2\n",
    "z = 0\n",
    "\n",
    "cos_theta_1 = (z - z1) / np.sqrt((z - z1) ** 2 + solenoid_radius**2)\n",
    "cos_theta_2 = (z - z2) / np.sqrt((z - z2) ** 2 + solenoid_radius**2)\n",
    "B_z_analytical = (mu_0 * turns_per_meter * current / 2) * (cos_theta_1 - cos_theta_2)\n",
    "\n",
    "print(f\"Analytical Bz for Solenoid: {B_z_analytical}\")"
   ]
  }
 ],
 "metadata": {
  "kernelspec": {
   "display_name": "Python 3",
   "language": "python",
   "name": "python3"
  },
  "language_info": {
   "codemirror_mode": {
    "name": "ipython",
    "version": 3
   },
   "file_extension": ".py",
   "mimetype": "text/x-python",
   "name": "python",
   "nbconvert_exporter": "python",
   "pygments_lexer": "ipython3",
   "version": "3.9.7"
  }
 },
 "nbformat": 4,
 "nbformat_minor": 4
}
