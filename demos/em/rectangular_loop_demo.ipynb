{
 "cells": [
  {
   "cell_type": "markdown",
   "id": "43422903",
   "metadata": {},
   "source": [
    "# Rectangular Loop Magnetic Field Demo"
   ]
  },
  {
   "cell_type": "code",
   "execution_count": 1,
   "id": "e70a7544",
   "metadata": {},
   "outputs": [],
   "source": [
    "import numpy as np\n",
    "from em_app import currentcoils, plotting\n",
    "import matplotlib.pyplot as plt"
   ]
  },
  {
   "cell_type": "markdown",
   "id": "bb0780c4-header",
   "metadata": {},
   "source": [
    "## 1. Define Geometry and Visualize"
   ]
  },
  {
   "cell_type": "code",
   "execution_count": 2,
   "id": "bb0780c4",
   "metadata": {},
   "outputs": [],
   "source": [
    "pose = currentcoils.Pose(\n",
    "    position=np.array([0.5, 0.5, 0.5]),\n",
    "    orientation_axis=np.array([0, 1, 1]),\n",
    "    orientation_angle=np.pi/4\n",
    ")\n",
    "\n",
    "rect_loop = currentcoils.RectangularLoop(\n",
    "    current=1.0,\n",
    "    width=1.0,\n",
    "    height=1.0,\n",
    "    num_segments_per_side=20,\n",
    "    pose=pose\n",
    ")\n",
    "\n",
    "fig = plt.figure(figsize=(8, 8))\n",
    "ax = fig.add_subplot(111, projection='3d')\n",
    "plotting._plot_loop_geometry(ax, [rect_loop])\n",
    "ax.set_title('Geometry of the Rectangular Loop')\n",
    "plt.show()"
   ]
  },
  {
   "cell_type": "markdown",
   "id": "44875488-header",
   "metadata": {},
   "source": [
    "## 2. Numerical B-Field Calculation"
   ]
  },
  {
   "cell_type": "code",
   "execution_count": 3,
   "id": "44875488",
   "metadata": {},
   "outputs": [],
   "source": [
    "observation_point = np.array([[0.5, 0.5, -1.0]])\n",
    "B_numerical = rect_loop.biot_savart(observation_point)\n",
    "\n",
    "print(f\"Computed B-field at the observation point: {B_numerical[0]}\")"
   ]
  }
 ],
 "metadata": {
  "kernelspec": {
   "display_name": "Python 3",
   "language": "python",
   "name": "python3"
  },
  "language_info": {
   "codemirror_mode": {
    "name": "ipython",
    "version": 3
   },
   "file_extension": ".py",
   "mimetype": "text/x-python",
   "name": "python",
   "nbconvert_exporter": "python",
   "pygments_lexer": "ipython3",
   "version": "3.9.7"
  }
 },
 "nbformat": 4,
 "nbformat_minor": 4
}
