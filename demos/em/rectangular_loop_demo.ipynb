{
 "cells": [
  {
   "cell_type": "markdown",
   "id": "43422903",
   "metadata": {},
   "source": [
    "# Rectangular Loop Magnetic Field Demo"
   ]
  },
  {
   "cell_type": "code",
   "execution_count": 1,
   "id": "e70a7544",
   "metadata": {},
   "outputs": [],
   "source": [
    "import numpy as np\n",
    "from em_app.currentcoils import RectangularCoil, _rotation_matrix\n",
    "import matplotlib.pyplot as plt\n",
    "from mtflib import mtf\n",
    "\n",
    "mtf.initialize_mtf(max_order=6, max_dimension=4)"
   ]
  },
  {
   "cell_type": "markdown",
   "id": "bb0780c4-header",
   "metadata": {},
   "source": [
    "## 1. Define Geometry and Visualize"
   ]
  },
  {
   "cell_type": "code",
   "execution_count": 2,
   "id": "bb0780c4",
   "metadata": {},
   "outputs": [],
   "source": [
    "width = 1.0\n",
    "height = 1.0\n",
    "position = np.array([0.5, 0.5, 0.5])\n",
    "orientation_axis = np.array([0, 1, 1])\n",
    "orientation_angle = np.pi / 4\n",
    "\n",
    "p1_local = np.array([-width / 2, -height / 2, 0])\n",
    "p2_local = np.array([width / 2, -height / 2, 0])\n",
    "p4_local = np.array([-width / 2, height / 2, 0])\n",
    "\n",
    "rotation = _rotation_matrix(orientation_axis, orientation_angle)\n",
    "p1 = rotation @ p1_local + position\n",
    "p2 = rotation @ p2_local + position\n",
    "p4 = rotation @ p4_local + position\n",
    "\n",
    "rect_loop = RectangularCoil(1.0, p1, p2, p4, 20)\n",
    "\n",
    "fig = plt.figure(figsize=(8, 8))\n",
    "ax = fig.add_subplot(111, projection=\"3d\")\n",
    "rect_loop.plot(ax)\n",
    "ax.set_title(\"Geometry of the Rectangular Loop\")\n",
    "plt.show()"
   ]
  },
  {
   "cell_type": "markdown",
   "id": "44875488-header",
   "metadata": {},
   "source": [
    "## 2. Numerical B-Field Calculation"
   ]
  },
  {
   "cell_type": "code",
   "execution_count": null,
   "id": "44875488",
   "metadata": {},
   "outputs": [],
   "source": [
    "# Define a point where the magnetic field will be calculated\n",
    "observation_point = np.array([[0.5, 0.5, -1.0]])\n",
    "\n",
    "# Calculate the magnetic field at this point\n",
    "# The biot_savart method returns a Bfield object\n",
    "b_field_object = rect_loop.biot_savart(observation_point, backend='c')\n",
    "\n",
    "# Extract the numerical data\n",
    "# _get_numerical_data returns points and vectors, we only need the vectors here\n",
    "_, b_field_numerical = b_field_object._get_numerical_data()\n",
    "\n",
    "# Since we only calculated for one point, we extract the first vector\n",
    "B_numerical_vector = b_field_numerical[0]\n",
    "\n",
    "print(f\"Computed B-field at {observation_point[0]}: {B_numerical_vector}\")"
   ]
  }
 ],
 "metadata": {
  "kernelspec": {
   "display_name": "Python 3",
   "language": "python",
   "name": "python3"
  },
  "language_info": {
   "codemirror_mode": {
    "name": "ipython",
    "version": 3
   },
   "file_extension": ".py",
   "mimetype": "text/x-python",
   "name": "python",
   "nbconvert_exporter": "python",
   "pygments_lexer": "ipython3",
   "version": "3.9.7"
  }
 },
 "nbformat": 4,
 "nbformat_minor": 4
}
