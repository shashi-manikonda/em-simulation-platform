{
 "cells": [
  {
   "cell_type": "markdown",
   "metadata": {},
   "source": [
    "# B-Field Validation and Geometry Visualization\n",
    "\n",
    "This notebook serves two main purposes:\n",
    "\n",
    "1.  **Validation:** It validates the numerical calculation of the magnetic B-field for a finite straight wire against the known analytical solution.\n",
    "2.  **Visualization:** It demonstrates how to plot the 3D geometry of various current-carrying sources, such as a `StraightWire` and a `RectangularCoil`."
   ]
  },
  {
   "cell_type": "code",
   "execution_count": null,
   "id": "2aa1435f",
   "metadata": {},
   "outputs": [],
   "source": [
    "import numpy as np\n",
    "import matplotlib.pyplot as plt\n",
    "from em_app.sources import StraightWire, RectangularCoil\n",
    "from em_app.solvers import calculate_b_field\n",
    "from mtflib import mtf"
   ]
  },
  {
   "cell_type": "code",
   "execution_count": null,
   "id": "960e380f",
   "metadata": {},
   "outputs": [],
   "source": [
    "mtf.initialize_mtf(max_order=6, max_dimension=4)"
   ]
  },
  {
   "cell_type": "markdown",
   "metadata": {},
   "source": [
    "## Analytical Solution for a Straight Wire\n",
    "\n",
    "For a finite straight wire carrying a current `I`, the magnetic field magnitude at a perpendicular distance `a` from the wire is given by:\n",
    "\n",
    "$$ B_\\phi = \\frac{\\mu_0 I}{4 \\pi a} (\\cos{\\theta_1} - \\cos{\\theta_2}) $$\n",
    "\n",
    "where `z1` and `z2` are the start and end points of the wire along the z-axis, and the observation point is at `(a, 0, z)`."
   ]
  },
  {
   "cell_type": "code",
   "execution_count": null,
   "id": "cda3bab7",
   "metadata": {},
   "outputs": [],
   "source": [
    "def analytical_b_field_straight_wire(current, a, z1, z2, z):\n",
    "    \"\"\"\n",
    "    Analytical solution for the B-field of a finite straight wire.\n",
    "    \"\"\"\n",
    "    mu_0 = 4 * np.pi * 1e-7\n",
    "    cos_theta_1 = (z - z1) / np.sqrt((z - z1) ** 2 + a**2)\n",
    "    cos_theta_2 = (z - z2) / np.sqrt((z - z2) ** 2 + a**2)\n",
    "    b_phi_mag = (mu_0 * current / (4 * np.pi * a)) * (cos_theta_1 - cos_theta_2)\n",
    "    return b_phi_mag"
   ]
  },
  {
   "cell_type": "markdown",
   "metadata": {},
   "source": [
    "## Part 1: Straight Wire Validation\n",
    "\n",
    "Here, we define a `StraightWire` object and an observation point. We then compute the B-field using both our numerical solver and the analytical formula. Finally, we calculate the relative error between the two methods to validate our numerical implementation."
   ]
  },
  {
   "cell_type": "code",
   "execution_count": null,
   "id": "a9b8c7d6",
   "metadata": {},
   "outputs": [],
   "source": [
    "current = 1.0\n",
    "start_point = [0, 0, -1]\n",
    "end_point = [0, 0, 1]\n",
    "wire = StraightWire(current, start_point, end_point, num_segments=50)\n",
    "\n",
    "# Numerical calculation\n",
    "observation_point = np.array([[0.1, 0, 0]])\n",
    "b_field = calculate_b_field(wire, observation_point)\n",
    "b_field_numerical = b_field._vectors_mtf[0].to_numpy_array()\n",
    "print(f\"Numerical B-field at {observation_point[0]}: {b_field_numerical}\")\n",
    "\n",
    "# Analytical calculation\n",
    "b_field_analytical_mag = analytical_b_field_straight_wire(current, 0.1, -1, 1, 0)\n",
    "print(f\"Analytical B-field magnitude: {b_field_analytical_mag}\")\n",
    "\n",
    "# The B-field should be in the -y direction (phi direction)\n",
    "b_field_numerical_mag = np.linalg.norm(b_field_numerical)\n",
    "print(f\"Numerical B-field magnitude: {b_field_numerical_mag}\")\n",
    "\n",
    "error = abs(b_field_numerical_mag - b_field_analytical_mag) / b_field_analytical_mag\n",
    "print(f\"Relative error: {error:.2%}\")"
   ]
  },
  {
   "cell_type": "markdown",
   "metadata": {},
   "source": [
    "## Part 2: Geometry Visualization\n",
    "\n",
    "This section demonstrates the plotting capabilities. We visualize the `StraightWire` defined earlier and also create and plot a `RectangularCoil`."
   ]
  },
  {
   "cell_type": "code",
   "execution_count": null,
   "id": "f0e1d2c3",
   "metadata": {},
   "outputs": [],
   "source": [
    "# Plot straight wire\n",
    "fig = plt.figure(figsize=(12, 6))\n",
    "ax1 = fig.add_subplot(121, projection='3d')\n",
    "wire.plot(ax=ax1)\n",
    "ax1.set_title(\"Straight Wire Geometry\")\n",
    "\n",
    "# Plot rectangular loop\n",
    "p1 = np.array([0, 0, 0])\n",
    "p2 = np.array([1, 0, 0])\n",
    "p4 = np.array([0, 1, 0])\n",
    "rect_loop = RectangularCoil(1.0, p1, p2, p4, 20)\n",
    "ax2 = fig.add_subplot(122, projection='3d')\n",
    "rect_loop.plot(ax=ax2)\n",
    "ax2.set_title(\"Rectangular Loop Geometry\")\n",
    "\n",
    "plt.tight_layout()\n",
    "plt.savefig(\"01_geometries.png\")\n",
    "plt.show()"
   ]
  }
 ],
 "metadata": {
  "jupytext": {
   "cell_metadata_filter": "-all",
   "main_language": "python",
   "notebook_metadata_filter": "-all"
  }
 },
 "nbformat": 4,
 "nbformat_minor": 5
}