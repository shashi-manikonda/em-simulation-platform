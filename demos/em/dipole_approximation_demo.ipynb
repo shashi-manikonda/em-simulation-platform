{
 "cells": [
  {
   "cell_type": "markdown",
   "id": "6e2b894b",
   "metadata": {},
   "source": [
    "# Magnetic Dipole Approximation Demo\n",
    "\n",
    "This demo verifies the magnetic dipole approximation."
   ]
  },
  {
   "cell_type": "code",
   "execution_count": 2,
   "id": "14c6a71d",
   "metadata": {},
   "outputs": [],
   "source": [
    "import numpy as np\n",
    "from em_app.currentcoils import RingCoil\n",
    "from em_app import plotting\n",
    "import matplotlib.pyplot as plt\n",
    "from mtflib import mtf\n",
    "\n",
    "mtf.initialize_mtf(max_order=6, max_dimension=4)"
   ]
  },
  {
   "cell_type": "markdown",
   "id": "813ebd35",
   "metadata": {},
   "source": [
    "### 1. Visualize the Geometry"
   ]
  },
  {
   "cell_type": "code",
   "execution_count": 3,
   "id": "geometry_viz",
   "metadata": {},
   "outputs": [],
   "source": [
    "ring_radius = 0.01\n",
    "center_point = np.array([0, 0, 0])\n",
    "axis_direction = np.array([0, 0, 1])\n",
    "ring = RingCoil(1.0, ring_radius, 20, center_point, axis_direction)\n",
    "\n",
    "fig = plt.figure(figsize=(10, 10))\n",
    "ax = fig.add_subplot(111, projection=\"3d\")\n",
    "ring.plot(ax)\n",
    "ax.set_title(\"Geometry of the Current Loop\")\n",
    "plt.show()"
   ]
  },
  {
   "cell_type": "markdown",
   "id": "8bf78e1c",
   "metadata": {},
   "source": [
    "### 2. Function to Calculate Approximation Error"
   ]
  },
  {
   "cell_type": "code",
   "execution_count": 4,
   "id": "error_function",
   "metadata": {},
   "outputs": [],
   "source": [
    "def calculate_error_at_distance(distance):\n",
    "    ring_radius = 0.01\n",
    "    current = 1.0\n",
    "    center_point = np.array([0, 0, 0])\n",
    "    axis_direction = np.array([0, 0, 1])\n",
    "    loop = RingCoil(current, ring_radius, 20, center_point, axis_direction)\n",
    "\n",
    "    field_point = np.array([[0, distance, 0]])\n",
    "    B_vector = loop.biot_savart(field_point)[0]\n",
    "    B_numerical = B_vector.to_numpy_array()\n",
    "\n",
    "    mu_0_4pi = 1e-7\n",
    "    area = np.pi * ring_radius**2\n",
    "    m_vec = np.array([0, 0, current * area])\n",
    "    r_vec = np.array([0, distance, 0])\n",
    "    r_mag = np.linalg.norm(r_vec)\n",
    "\n",
    "    term1 = 3 * np.dot(m_vec, r_vec) * r_vec / (r_mag**5)\n",
    "    term2 = m_vec / (r_mag**3)\n",
    "    B_analytical = mu_0_4pi * (term1 - term2)\n",
    "\n",
    "    error = np.linalg.norm(B_numerical - B_analytical)\n",
    "    return error"
   ]
  },
  {
   "cell_type": "markdown",
   "id": "484baab5",
   "metadata": {},
   "source": [
    "### 3. Run Simulation Over a Range of Distances"
   ]
  },
  {
   "cell_type": "code",
   "execution_count": 5,
   "id": "simulation",
   "metadata": {},
   "outputs": [],
   "source": [
    "distances = np.logspace(0, 2, 20)\n",
    "errors = []\n",
    "for d in distances:\n",
    "    error = calculate_error_at_distance(d)\n",
    "    print(f\"Distance: {d:.2f}, Error: {error:.2e}\")\n",
    "    errors.append(error)"
   ]
  },
  {
   "cell_type": "markdown",
   "id": "40481471",
   "metadata": {},
   "source": [
    "### 4. Plot Error vs. Distance"
   ]
  },
  {
   "cell_type": "code",
   "execution_count": 6,
   "id": "error_plot",
   "metadata": {},
   "outputs": [],
   "source": [
    "plt.figure(figsize=(10, 6))\n",
    "plt.plot(distances, errors, \"o-\")\n",
    "plt.xscale(\"log\")\n",
    "plt.yscale(\"log\")\n",
    "plt.xlabel(\"Distance from loop (m)\")\n",
    "plt.ylabel(\"Approximation Error\")\n",
    "plt.title(\"Dipole Approximation Error vs. Distance\")\n",
    "plt.grid(True, which=\"both\", ls=\"--\")\n",
    "plt.show()"
   ]
  }
 ],
 "metadata": {
  "kernelspec": {
   "display_name": "Python 3",
   "language": "python",
   "name": "python3"
  },
  "language_info": {
   "codemirror_mode": {
    "name": "ipython",
    "version": 3
   },
   "file_extension": ".py",
   "mimetype": "text/x-python",
   "name": "python",
   "nbconvert_exporter": "python",
   "pygments_lexer": "ipython3",
   "version": "3.9.7"
  }
 },
 "nbformat": 4,
 "nbformat_minor": 4
}
